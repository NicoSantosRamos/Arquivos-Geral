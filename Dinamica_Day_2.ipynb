{
  "nbformat": 4,
  "nbformat_minor": 0,
  "metadata": {
    "colab": {
      "provenance": [],
      "authorship_tag": "ABX9TyMB9LA0CQH9FzEwhtetHH+i",
      "include_colab_link": true
    },
    "kernelspec": {
      "name": "python3",
      "display_name": "Python 3"
    },
    "language_info": {
      "name": "python"
    }
  },
  "cells": [
    {
      "cell_type": "markdown",
      "metadata": {
        "id": "view-in-github",
        "colab_type": "text"
      },
      "source": [
        "<a href=\"https://colab.research.google.com/github/NicoSantosRamos/Arquivos-Geral/blob/main/Dinamica_Day_2.ipynb\" target=\"_parent\"><img src=\"https://colab.research.google.com/assets/colab-badge.svg\" alt=\"Open In Colab\"/></a>"
      ]
    },
    {
      "cell_type": "code",
      "execution_count": null,
      "metadata": {
        "id": "M7wvp-jQeVO_"
      },
      "outputs": [],
      "source": [
        "#Nicolas Santos Ramos     RID 40142"
      ]
    },
    {
      "cell_type": "code",
      "source": [
        "# Questão 1"
      ],
      "metadata": {
        "id": "Y3Z8PcrNj9If"
      },
      "execution_count": null,
      "outputs": []
    },
    {
      "cell_type": "code",
      "source": [
        "x = 5\n",
        "type(x)"
      ],
      "metadata": {
        "colab": {
          "base_uri": "https://localhost:8080/"
        },
        "id": "jvl-_MbDezIB",
        "outputId": "aa5beb32-c7e1-475a-9155-e0764ade1846"
      },
      "execution_count": null,
      "outputs": [
        {
          "output_type": "execute_result",
          "data": {
            "text/plain": [
              "int"
            ]
          },
          "metadata": {},
          "execution_count": 1
        }
      ]
    },
    {
      "cell_type": "code",
      "source": [
        "x = 5.0\n",
        "type(x)"
      ],
      "metadata": {
        "colab": {
          "base_uri": "https://localhost:8080/"
        },
        "id": "GVBvU44gjRjg",
        "outputId": "f2b3515a-9972-4dd4-b7f4-7d3474335362"
      },
      "execution_count": null,
      "outputs": [
        {
          "output_type": "execute_result",
          "data": {
            "text/plain": [
              "float"
            ]
          },
          "metadata": {},
          "execution_count": 2
        }
      ]
    },
    {
      "cell_type": "code",
      "source": [
        "x = 5.5\n",
        "type(x)"
      ],
      "metadata": {
        "colab": {
          "base_uri": "https://localhost:8080/"
        },
        "id": "0K3RKxiVjahm",
        "outputId": "67ec5ede-7dc6-4eb6-8d09-38f00e3c1149"
      },
      "execution_count": null,
      "outputs": [
        {
          "output_type": "execute_result",
          "data": {
            "text/plain": [
              "float"
            ]
          },
          "metadata": {},
          "execution_count": 3
        }
      ]
    },
    {
      "cell_type": "code",
      "source": [
        "x = 'DNC'\n",
        "type(x)"
      ],
      "metadata": {
        "colab": {
          "base_uri": "https://localhost:8080/"
        },
        "id": "Ia4Kgie4jfC3",
        "outputId": "fa9dd466-8eef-42ed-aa98-1fb7d07512e9"
      },
      "execution_count": null,
      "outputs": [
        {
          "output_type": "execute_result",
          "data": {
            "text/plain": [
              "str"
            ]
          },
          "metadata": {},
          "execution_count": 4
        }
      ]
    },
    {
      "cell_type": "code",
      "source": [
        "x = 1/2\n",
        "type(x)"
      ],
      "metadata": {
        "colab": {
          "base_uri": "https://localhost:8080/"
        },
        "id": "s-HKZChjjh6X",
        "outputId": "a4a56d21-a3ba-4b9b-b95f-1b668b896114"
      },
      "execution_count": null,
      "outputs": [
        {
          "output_type": "execute_result",
          "data": {
            "text/plain": [
              "float"
            ]
          },
          "metadata": {},
          "execution_count": 5
        }
      ]
    },
    {
      "cell_type": "code",
      "source": [
        "x = 0.5*2\n",
        "type(x)"
      ],
      "metadata": {
        "colab": {
          "base_uri": "https://localhost:8080/"
        },
        "id": "EUa3Az7cjmh3",
        "outputId": "fff18494-43e3-4649-a9d5-2856ac87c211"
      },
      "execution_count": null,
      "outputs": [
        {
          "output_type": "execute_result",
          "data": {
            "text/plain": [
              "float"
            ]
          },
          "metadata": {},
          "execution_count": 10
        }
      ]
    },
    {
      "cell_type": "code",
      "source": [
        "x = 2 ** 4\n",
        "type(x)"
      ],
      "metadata": {
        "colab": {
          "base_uri": "https://localhost:8080/"
        },
        "id": "JowTqGDrjmb2",
        "outputId": "5149e6bd-b05a-4b30-f676-3d68f34b6558"
      },
      "execution_count": null,
      "outputs": [
        {
          "output_type": "execute_result",
          "data": {
            "text/plain": [
              "int"
            ]
          },
          "metadata": {},
          "execution_count": 8
        }
      ]
    },
    {
      "cell_type": "code",
      "source": [
        "x = 2 + 4\n",
        "type(x)"
      ],
      "metadata": {
        "colab": {
          "base_uri": "https://localhost:8080/"
        },
        "id": "1MCMViJ4jmT4",
        "outputId": "2e08f382-4df5-4d53-bd12-ea2da63bacd5"
      },
      "execution_count": null,
      "outputs": [
        {
          "output_type": "execute_result",
          "data": {
            "text/plain": [
              "int"
            ]
          },
          "metadata": {},
          "execution_count": 7
        }
      ]
    },
    {
      "cell_type": "code",
      "source": [
        "x = 1000000000\n",
        "type(x)"
      ],
      "metadata": {
        "colab": {
          "base_uri": "https://localhost:8080/"
        },
        "id": "ffkCVhwfjlm4",
        "outputId": "ecef6331-4c4a-4b27-ecf6-eccf98ffef75"
      },
      "execution_count": null,
      "outputs": [
        {
          "output_type": "execute_result",
          "data": {
            "text/plain": [
              "int"
            ]
          },
          "metadata": {},
          "execution_count": 6
        }
      ]
    },
    {
      "cell_type": "code",
      "source": [
        "x = int(input('Digite um numero inteiro '))\n",
        "type(x)"
      ],
      "metadata": {
        "colab": {
          "base_uri": "https://localhost:8080/"
        },
        "id": "CoNowTLfkCfG",
        "outputId": "5e553f90-5199-4fbd-87a5-e2697b03ce2b"
      },
      "execution_count": null,
      "outputs": [
        {
          "name": "stdout",
          "output_type": "stream",
          "text": [
            "Digite um numero inteiro 5\n"
          ]
        },
        {
          "output_type": "execute_result",
          "data": {
            "text/plain": [
              "int"
            ]
          },
          "metadata": {},
          "execution_count": 12
        }
      ]
    },
    {
      "cell_type": "code",
      "source": [
        "x = float(input('Digite um numero float '))\n",
        "type(x)"
      ],
      "metadata": {
        "colab": {
          "base_uri": "https://localhost:8080/"
        },
        "id": "5rAxPVmwkSqd",
        "outputId": "08e8edc8-ccef-420a-d0e3-df02ac19e5d7"
      },
      "execution_count": null,
      "outputs": [
        {
          "name": "stdout",
          "output_type": "stream",
          "text": [
            "Digite um numero float 8\n"
          ]
        },
        {
          "output_type": "execute_result",
          "data": {
            "text/plain": [
              "float"
            ]
          },
          "metadata": {},
          "execution_count": 13
        }
      ]
    },
    {
      "cell_type": "code",
      "source": [
        "x = str(input('Digite uma string '))\n",
        "type(x)"
      ],
      "metadata": {
        "colab": {
          "base_uri": "https://localhost:8080/"
        },
        "id": "MPu5LVE2kSj-",
        "outputId": "28225db7-be31-41a6-c47e-13e6ac1aa112"
      },
      "execution_count": null,
      "outputs": [
        {
          "name": "stdout",
          "output_type": "stream",
          "text": [
            "Digite uma string abc\n"
          ]
        },
        {
          "output_type": "execute_result",
          "data": {
            "text/plain": [
              "str"
            ]
          },
          "metadata": {},
          "execution_count": 14
        }
      ]
    },
    {
      "cell_type": "code",
      "source": [
        "x = input('Digite um valor ')\n",
        "if type(x) == str :\n",
        "  print('O dado inserido é string')\n",
        "elif type(x) == int :\n",
        "  print('O dado inserido é inteiro')\n",
        "elif type(x) == float :\n",
        "  print('O dado inserido é float')\n",
        "\n",
        "type(x)"
      ],
      "metadata": {
        "colab": {
          "base_uri": "https://localhost:8080/"
        },
        "id": "g6zV9afdkSIW",
        "outputId": "7853df99-e7b3-43fc-d584-913dd3eac0b1"
      },
      "execution_count": null,
      "outputs": [
        {
          "output_type": "stream",
          "name": "stdout",
          "text": [
            "Digite um valor N\n",
            "O dado inserido é string\n"
          ]
        },
        {
          "output_type": "execute_result",
          "data": {
            "text/plain": [
              "str"
            ]
          },
          "metadata": {},
          "execution_count": 120
        }
      ]
    },
    {
      "cell_type": "code",
      "source": [
        "# Questão 2\n",
        "print('-'*50)\n",
        "print('-'*19,'DS06 - DNC','-'*19)\n",
        "print('-'*50)"
      ],
      "metadata": {
        "colab": {
          "base_uri": "https://localhost:8080/"
        },
        "id": "Fgt5xkTge2h4",
        "outputId": "bc7a1c24-637b-412b-8ea9-bd3375361994"
      },
      "execution_count": null,
      "outputs": [
        {
          "output_type": "stream",
          "name": "stdout",
          "text": [
            "--------------------------------------------------\n",
            "------------------- DS06 - DNC -------------------\n",
            "--------------------------------------------------\n"
          ]
        }
      ]
    },
    {
      "cell_type": "code",
      "source": [
        "# Questão 3\n",
        "salario_cientista_de_dados = 10000.00\n",
        "parcela_bmw = 2500.45\n",
        "parcela_apartamento = 3500.50\n",
        "veterinario_romeuzinho = 500.00\n",
        "luz = 100.80\n",
        "agua = 80.35\n",
        "condominio = 800.44\n",
        "gas = 150.65\n",
        "\n",
        "print('*'*92)\n",
        "print(f'''Seu salário de cientista de dados jr é de R${salario_cientista_de_dados:.2f} e seus gastos estão dispostos a seguir\n",
        "Parcela da BMW = R$ {parcela_bmw:.2f}\n",
        "Parcela do apartamento = R$ {parcela_apartamento:.2f}\n",
        "Veterinario do Romeuzinho = R$ {veterinario_romeuzinho:.2f}\n",
        "Conta de luz = R$ {luz:.2f}\n",
        "Conta de agua = R$ {agua:.2f}\n",
        "Conta de condominio = R$ {condominio:.2f}\n",
        "Conta de gas = R$ {gas:.2f}''')\n",
        "print('*'*92)\n",
        "print(f'O valor disponiel para colocar na poupança é de R$ {salario_cientista_de_dados-parcela_bmw-parcela_apartamento-veterinario_romeuzinho-luz-agua-condominio-gas:.2f}')"
      ],
      "metadata": {
        "colab": {
          "base_uri": "https://localhost:8080/"
        },
        "id": "K11zt006oG6a",
        "outputId": "9ab32ca5-44af-4435-ee0a-6301823916eb"
      },
      "execution_count": null,
      "outputs": [
        {
          "output_type": "stream",
          "name": "stdout",
          "text": [
            "********************************************************************************************\n",
            "Seu salário de cientista de dados jr é de R$10000.00 e seus gastos estão dispostos a seguir\n",
            "Parcela da BMW = R$ 2500.45\n",
            "Parcela do apartamento = R$ 3500.50\n",
            "Veterinario do Romeuzinho = R$ 500.00\n",
            "Conta de luz = R$ 100.80\n",
            "Conta de agua = R$ 80.35\n",
            "Conta de condominio = R$ 800.44\n",
            "Conta de gas = R$ 150.65\n",
            "********************************************************************************************\n",
            "O valor disponiel para colocar na poupança é de R$ 2366.81\n"
          ]
        }
      ]
    },
    {
      "cell_type": "code",
      "source": [
        "# Questão 4\n",
        "Formação_em_dados = 20000\n",
        "Formação_em_projetos = 15000\n",
        "Formação_em_marketing = 13000\n",
        "Formação_em_produto = 18000\n",
        "Formação_em_tecnologia = 19000\n",
        "x=0\n",
        "x= int(input('''1 = Formação_em_dados\n",
        "2 = Formação_em_projetos\n",
        "3 = Formação_em_marketing\n",
        "4=  Formação_em_produto\n",
        "5 = Formação_em_tecnologia \n",
        "Qual curso você quer escolher ?  ''') )\n",
        "print('')\n",
        "if x==1 :\n",
        "  print(f\"Você escolheu o curso Formação em Dados no valor de R$ {Formação_em_dados:.2f} valor que começará no próximo mês\")\n",
        "elif x==2:\n",
        "  print(f\"Você escolheu o curso Formação em Projetos no valor de R$ {Formação_em_projetos:.2f} valor que começará no próximo mês\")\n",
        "elif x==3:\n",
        "  print(f\"Você escolheu o curso Formação em Marketing no valor de R$ {Formação_em_marketing:.2f} valor que começará no próximo mês\")\n",
        "elif x==4:\n",
        "  print(f\"Você escolheu o curso Formação em Produto no valor de R$ {Formação_em_produto:.2f} valor que começará no próximo mês\")\n",
        "elif x==5:\n",
        "  print(f\"Você escolheu o curso Formação em Tecnologia no valor de R$ {Formação_em_tecnologia:.2f} valor que começará no próximo mês\")\n",
        "else:\n",
        "  print(\"Digite um valor correspondente a um curso de nossas formações \\n1-Formação em  dados \\n2-Formação em projetos\\n3-Formação em marketing\\n4-Formação em  produto\\n5-Formação em tecnologia\")\n"
      ],
      "metadata": {
        "colab": {
          "base_uri": "https://localhost:8080/"
        },
        "id": "OmQCGvzVpi9s",
        "outputId": "50a328e9-a353-4c76-fb9f-ab6a0564e215"
      },
      "execution_count": null,
      "outputs": [
        {
          "output_type": "stream",
          "name": "stdout",
          "text": [
            "1 = Formação_em_dados\n",
            "2 = Formação_em_projetos\n",
            "3 = Formação_em_marketing\n",
            "4=  Formação_em_produto\n",
            "5 = Formação_em_tecnologia \n",
            "Qual curso você quer escolher ?  5\n",
            "\n",
            "Você escolheu o curso Formação em Tecnologia no valor de R$ 19000.00 valor que começará no próximo mês\n"
          ]
        }
      ]
    },
    {
      "cell_type": "code",
      "source": [
        "# Questão 5\n",
        "qtd_dados = int(input('Digite a quantidade de cursos vendidos em Formção em Dados '))\n",
        "qtd_proj = int(input('Digite a quantidade de cursos vendidos em Formção em Projetos '))\n",
        "qtd_mkt = int(input('Digite a quantidade de cursos vendidos em Formção em Marketing '))\n",
        "qtd_prod = int(input('Digite a quantidade de cursos vendidos em Formção em Produto '))  \n",
        "qtd_tec = int(input('Digite a quantidade de cursos vendidos em Formção em Tecnologia '))\n",
        "\n",
        "total_vendas = (qtd_dados * Formação_em_dados) + (qtd_proj * Formação_em_projetos) + (qtd_mkt * Formação_em_marketing) + (qtd_prod * Formação_em_produto) + (qtd_tec * Formação_em_tecnologia)\n",
        "if total_vendas >= 2000000:\n",
        "  print(\"\\nParabéns!!! A DNC bateu a meta do mês\")\n",
        "else :\n",
        "  print('\\nEsse mês não batemos a meta, porém mês que vem vamos vir mais forte pra recuperar!!!')\n",
        "\n",
        "print(f'O valor total foi de R$ {total_vendas:,.2f} , e a media geral foi de R${total_vendas/(5):,.2f}')"
      ],
      "metadata": {
        "colab": {
          "base_uri": "https://localhost:8080/"
        },
        "id": "fu04miTcqgdh",
        "outputId": "a90d94a2-fef6-4f86-d72f-a48760790d1c"
      },
      "execution_count": null,
      "outputs": [
        {
          "output_type": "stream",
          "name": "stdout",
          "text": [
            "Digite a quantidade de cursos vendidos em Formção em Dados 20\n",
            "Digite a quantidade de cursos vendidos em Formção em Projetos 50\n",
            "Digite a quantidade de cursos vendidos em Formção em Marketing 30\n",
            "Digite a quantidade de cursos vendidos em Formção em Produto 22\n",
            "Digite a quantidade de cursos vendidos em Formção em Tecnologia 55\n",
            "\n",
            "Parabéns!!! A DNC bateu a meta do mês\n",
            "O valor total foi de R$ 2,981,000.00 , e a media geral foi de R$596,200.00\n"
          ]
        }
      ]
    },
    {
      "cell_type": "code",
      "source": [
        "# Questão 6\n",
        "stop = int(input('Digite o valor que a somatoria deve parar '))\n",
        "sum = 0\n",
        "for i in range(0,stop+1) :\n",
        "  sum += i   \n",
        "  i += 1\n",
        "\n",
        "print (' O valor total é de', sum)\n"
      ],
      "metadata": {
        "colab": {
          "base_uri": "https://localhost:8080/"
        },
        "id": "y2mFR9_FuQf1",
        "outputId": "cbe77563-da7e-492d-ef8b-03ce85efa766"
      },
      "execution_count": null,
      "outputs": [
        {
          "output_type": "stream",
          "name": "stdout",
          "text": [
            "Digite o valor que a somatoria deve parar 5\n",
            " O valor total é de 15\n"
          ]
        }
      ]
    },
    {
      "cell_type": "code",
      "source": [
        "# Questão 7\n",
        "while True:\n",
        "  com = input(\"Digite um comando \")\n",
        "  if com == 'p':\n",
        "      print('Proxima musica !')\n",
        "  else:\n",
        "      break\n",
        "\n",
        "  \n",
        "print('Fechando o app, até a proxima')"
      ],
      "metadata": {
        "colab": {
          "base_uri": "https://localhost:8080/"
        },
        "id": "Xq239UhRvzMt",
        "outputId": "03ea08ca-5352-481f-d077-d0ed7bdad6b0"
      },
      "execution_count": null,
      "outputs": [
        {
          "output_type": "stream",
          "name": "stdout",
          "text": [
            "Digite um comando p\n",
            "Proxima musica !\n",
            "Digite um comando p\n",
            "Proxima musica !\n",
            "Digite um comando s\n",
            "Fechando o app, até a proxima\n"
          ]
        }
      ]
    },
    {
      "cell_type": "code",
      "source": [
        "# Questão 8\n",
        "nomes = []\n",
        "for i in range(0,3):\n",
        "  nomes.append(input(\"Digite o nome do funcionario \"))\n",
        "\n",
        "for ind in range(0,3):\n",
        "  print(f\"Parabéns {nomes[ind]} por toda sua ajuda no projeto, você está sendo essencial para o resultado que estamos atingindo\")\n",
        "  "
      ],
      "metadata": {
        "colab": {
          "base_uri": "https://localhost:8080/"
        },
        "id": "k8yZLINJwViL",
        "outputId": "696d8339-e1e7-4993-fab6-b60b4285b0d2"
      },
      "execution_count": null,
      "outputs": [
        {
          "output_type": "stream",
          "name": "stdout",
          "text": [
            "Digite o nome do funcionario jkl\n",
            "Digite o nome do funcionario hjk\n",
            "Digite o nome do funcionario b,n\n",
            "Parabéns jkl por toda sua ajuda no projeto, você está sendo essencial para o resultado que estamos atingindo\n",
            "Parabéns hjk por toda sua ajuda no projeto, você está sendo essencial para o resultado que estamos atingindo\n",
            "Parabéns b,n por toda sua ajuda no projeto, você está sendo essencial para o resultado que estamos atingindo\n"
          ]
        }
      ]
    },
    {
      "cell_type": "code",
      "source": [
        "# Questão 9 \n",
        "cont = 's'\n",
        "vezes= 0\n",
        "total = 0\n",
        "notas = {}\n",
        "carteira = []\n",
        "while True :\n",
        "  if cont == 's' or cont == \"S\":\n",
        "    valor_nota = float(input('Digite a nota que voce tem '))\n",
        "    qtd_nota = int(input(f'Digite quantas notas de R$ {valor_nota:.2f} voce tem '))\n",
        "    notas['Nota'] = valor_nota\n",
        "    notas['Quantidade'] = qtd_nota\n",
        "    carteira.append(notas.copy())\n",
        "    cont = input('Deseja informar mais notas ? s/n ')\n",
        "    vezes+=1\n",
        "  else :\n",
        "    print('Valores contatos')\n",
        "    print('-'*50)\n",
        "    break\n",
        "\n",
        "i=0\n",
        "for i in range(0,vezes): \n",
        "  print('Voce tem', carteira[i]['Quantidade'],'notas de R$',carteira[i]['Nota'])\n",
        "  total += (carteira[i]['Quantidade']*carteira[i]['Nota'])\n",
        "print('-'*50)\n",
        "print('O total monetario é de R$', total)\n",
        "       \n",
        "  \n",
        "\n"
      ],
      "metadata": {
        "colab": {
          "base_uri": "https://localhost:8080/"
        },
        "id": "E8FFvM1Ox_Dy",
        "outputId": "1bc9a353-7eed-4f50-cfa6-fc73d455e4bb"
      },
      "execution_count": null,
      "outputs": [
        {
          "output_type": "stream",
          "name": "stdout",
          "text": [
            "Digite a nota que voce tem 2\n",
            "Digite quantas notas de R$ 2.00 voce tem 12\n",
            "Deseja informar mais notas ? s/n s\n",
            "Digite a nota que voce tem 5\n",
            "Digite quantas notas de R$ 5.00 voce tem 9\n",
            "Deseja informar mais notas ? s/n s\n",
            "Digite a nota que voce tem 10\n",
            "Digite quantas notas de R$ 10.00 voce tem 4\n",
            "Deseja informar mais notas ? s/n s\n",
            "Digite a nota que voce tem 20\n",
            "Digite quantas notas de R$ 20.00 voce tem 2\n",
            "Deseja informar mais notas ? s/n n\n",
            "Valores contatos\n",
            "--------------------------------------------------\n",
            "Voce tem 12 notas de R$ 2.0\n",
            "Voce tem 9 notas de R$ 5.0\n",
            "Voce tem 4 notas de R$ 10.0\n",
            "Voce tem 2 notas de R$ 20.0\n",
            "--------------------------------------------------\n",
            "O total monetario é de R$ 149.0\n"
          ]
        }
      ]
    },
    {
      "cell_type": "code",
      "source": [
        "16# Questão 10\n",
        "infor = dict()\n",
        "lista = []\n",
        "for i in range (0,5):\n",
        "  nome = input('Insira o nome ')\n",
        "  infor['Nome'] = nome\n",
        "  rid = input('Insira o RID ')\n",
        "  infor['RID'] = rid\n",
        "  idade = input('Insira a idade ')\n",
        "  infor['Idade'] = idade\n",
        "  cidade = input('Insira o cidade ')\n",
        "  infor['Cidade'] = cidade\n",
        "  cargo = input('Insira o cargo no time de projeto ')\n",
        "  infor['Cargo'] = cargo\n",
        "  lista.append(infor.copy())\n",
        "  print('-'*40)\n",
        "\n",
        "print('Segue lista completa dos membros do grupo ')\n",
        "print('-'*40)\n",
        "for p in lista :\n",
        "  for k, v in p.items():\n",
        "    print(f'O {k} é: {v}')\n",
        "  print('-'*40)\n"
      ],
      "metadata": {
        "colab": {
          "base_uri": "https://localhost:8080/"
        },
        "id": "Pg39VGOF2WGv",
        "outputId": "3743a206-6a22-423b-8b7c-b2d8c8e022e2"
      },
      "execution_count": null,
      "outputs": [
        {
          "output_type": "stream",
          "name": "stdout",
          "text": [
            "Insira o nome Nicolas\n",
            "Insira o RID 234\n",
            "Insira a idade 23\n",
            "Insira o cidade SJC\n",
            "Insira o cargo no time de projeto DEV\n",
            "----------------------------------------\n",
            "Insira o nome Maria\n",
            "Insira o RID 234\n",
            "Insira a idade 34\n",
            "Insira o cidade SJC\n",
            "Insira o cargo no time de projeto PO\n",
            "----------------------------------------\n",
            "Insira o nome Jorge\n",
            "Insira o RID 456\n",
            "Insira a idade 30\n",
            "Insira o cidade SP\n",
            "Insira o cargo no time de projeto DEV\n",
            "----------------------------------------\n",
            "Insira o nome Marco\n",
            "Insira o RID 56\n",
            "Insira a idade 36\n",
            "Insira o cidade Scrum\n",
            "Insira o cargo no time de projeto Scrum\n",
            "----------------------------------------\n",
            "Insira o nome Tiago\n",
            "Insira o RID 987\n",
            "Insira a idade 20\n",
            "Insira o cidade Jacarei\n",
            "Insira o cargo no time de projeto DEV\n",
            "----------------------------------------\n",
            "Segue lista completa dos membros do grupo \n",
            "----------------------------------------\n",
            "O Nome é: Nicolas\n",
            "O RID é: 234\n",
            "O Idade é: 23\n",
            "O Cidade é: SJC\n",
            "O Cargo é: DEV\n",
            "----------------------------------------\n",
            "O Nome é: Maria\n",
            "O RID é: 234\n",
            "O Idade é: 34\n",
            "O Cidade é: SJC\n",
            "O Cargo é: PO\n",
            "----------------------------------------\n",
            "O Nome é: Jorge\n",
            "O RID é: 456\n",
            "O Idade é: 30\n",
            "O Cidade é: SP\n",
            "O Cargo é: DEV\n",
            "----------------------------------------\n",
            "O Nome é: Marco\n",
            "O RID é: 56\n",
            "O Idade é: 36\n",
            "O Cidade é: Scrum\n",
            "O Cargo é: Scrum\n",
            "----------------------------------------\n",
            "O Nome é: Tiago\n",
            "O RID é: 987\n",
            "O Idade é: 20\n",
            "O Cidade é: Jacarei\n",
            "O Cargo é: DEV\n",
            "----------------------------------------\n"
          ]
        }
      ]
    },
    {
      "cell_type": "code",
      "source": [
        "# Questão 11\n",
        "def soma (* args):\n",
        "  s=0\n",
        "  for i in args:\n",
        "    s += i\n",
        "  return s\n",
        "\n",
        "# Principal\n",
        "var = soma(2,5,5,5,8,7)\n",
        "print('O valor total das notas é de', var)"
      ],
      "metadata": {
        "id": "jWjEJMMX2Vzv",
        "colab": {
          "base_uri": "https://localhost:8080/"
        },
        "outputId": "48788866-77c4-4272-bd4b-f48671d4aa5e"
      },
      "execution_count": null,
      "outputs": [
        {
          "output_type": "stream",
          "name": "stdout",
          "text": [
            "O valor total das notas é de 32\n"
          ]
        }
      ]
    },
    {
      "cell_type": "code",
      "source": [],
      "metadata": {
        "id": "AnZZkWSXC4Y8"
      },
      "execution_count": null,
      "outputs": []
    }
  ]
}